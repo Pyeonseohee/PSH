{
  "nbformat": 4,
  "nbformat_minor": 0,
  "metadata": {
    "colab": {
      "name": "Untitled4.ipynb",
      "provenance": [],
      "collapsed_sections": [],
      "authorship_tag": "ABX9TyN9N5Or5U2euVhgkT/QAcX1",
      "include_colab_link": true
    },
    "kernelspec": {
      "name": "python3",
      "display_name": "Python 3"
    }
  },
  "cells": [
    {
      "cell_type": "markdown",
      "metadata": {
        "id": "view-in-github",
        "colab_type": "text"
      },
      "source": [
        "<a href=\"https://colab.research.google.com/github/Pyeonseohee/PSH/blob/main/Untitled4.ipynb\" target=\"_parent\"><img src=\"https://colab.research.google.com/assets/colab-badge.svg\" alt=\"Open In Colab\"/></a>"
      ]
    },
    {
      "cell_type": "markdown",
      "metadata": {
        "id": "5-rCQhbdRS_S"
      },
      "source": [
        "## 1장 요약정리(Theorem 위주)\n",
        "\n",
        "***1.1 SYSTEMS OF LINEAR EQUATIONS***\n",
        "\n",
        "* linear equation의 수학적 정의   \n",
        "   \n",
        "   $a_1x_1+a_2x_2+ \\cdots+a_nx_n=b(a,b는 상수)$\n",
        "\n",
        "   linearly equivalent하다: the same soulution set을 가진다. solution의 순서는 상관없다.\n",
        "consistence: 해가 존재한다. 즉, 해가 오직 하나 존재할 수도 있고 여러 개가 존재할 수 있다. \n",
        "\n",
        "   **coefficient matrix + constant column vector = argument matrix**\n",
        "\n",
        "   ex)\n",
        "   $\\begin{bmatrix}\n",
        "1 & -2 & 1 \\\\\n",
        "0 & 2 & -8 \\\\\n",
        "-4 & 5 & 9\n",
        "\\end{bmatrix}$ + $\\begin{bmatrix}\n",
        "0 \\\\\n",
        "8 \\\\\n",
        "-9\n",
        "\\end{bmatrix} $ = $\\begin{bmatrix}\n",
        "1 & -2 & 1 &0 \\\\\n",
        "0 & 2 & -8 & 8 \\\\\n",
        "-4 & 5 & 9& -9\n",
        "\\end{bmatrix}$\n",
        "\n",
        "\n",
        "  * **Elementary Row Operations**\n",
        "   1. Replacement: row끼리 더해거나 곱할 수 있다.\n",
        "   2. Interchange: row의 순서를 바꿀 수 있다.\n",
        "   3. Scaling: row에 scalar multiple을 할 수 있다.\n",
        "\n",
        " 이 과정을 통해 linear system을 풀 수 있음.\n",
        "\n",
        " linear system은 3개의 해를 가지게 된다.\n",
        " 1. 해가 없는 경우(=inconsistent)\n",
        " 2. 해가 유일한 경우(unique한 해를 가짐.)\n",
        " 3. 해가 무수히 많은 경우\n",
        "\n",
        " 2번과 3번인 경우 linear system은 consistent한 경우라고 말한다. "
      ]
    },
    {
      "cell_type": "markdown",
      "metadata": {
        "id": "eQhgzYVGrC1C"
      },
      "source": [
        "***1.2 ROW REDUCTION AND ECHELON FORMS***\n",
        "\n",
        "* **ECHELON FORM (or row echelon form=REF)**\n",
        "1. 모든 nonzero행은 all zero행 위에 있어야한다.\n",
        "2. 각각의 leading entry는 대각선으로 존재해야한다.    \n",
        "(cf.leading entry: nonzero인 행의 맨 왼쪽에 있는 요소를 말한다.)\n",
        "3. leading entry 밑의 요소들은 다 0이어야 한다.\n",
        "\n",
        "위 세 조건을 만족을 시키면 matrix는 echelon form이 된다. 여기서 밑의 두 가지 조건까지 만족 시키면, 그 matrix는 reduced row echelon form(RREF)이 된다.\n",
        "\n",
        "(주의: 위의 세가지 조건을 다 만족시킨다는 가정하에)\n",
        "4. leading entry가 모두 1의 값을 가진다.\n",
        "5. 각각의 leading entry가 포함된 column의 나머지 요소들은 0의 값을 가진다.\n",
        "\n",
        "ex) \n",
        "$\\begin{bmatrix}\n",
        "2 & 3 & 2 & 1 \\\\\n",
        "0 & 1 & -4 & 8 \\\\\n",
        "0 & 0 & 0 & 5/2\n",
        "\\end{bmatrix}$ and $\\begin{bmatrix}\n",
        "1 & 0 & 0 & 29 \\\\\n",
        "0 & 1 & 0 & 16 \\\\\n",
        "0 & 0 & 1 & 3\n",
        "\\end{bmatrix}$\n",
        "\n",
        "위의 matrix에서 왼쪽 matrix는 REF이고, 오른쪽 matrix는 RREF라고 한다.\n",
        "이때, REF는 row operation 과정에 따라 다양한 matrix가 존재하지만, RREF는 유일한 form을 가진다.\n",
        "\n",
        "\n",
        "## **THEOREM 1. RREF의 유일성**\n",
        "하나의 행렬은 유일하게 존재하는 RREF와 row equivalent하다.\n",
        "\n",
        "* ***Pivot Positions***\n",
        "\n",
        "Pivot Position이란 RREF에서 leading entry에 해당하는 요소를 말한다. 그리고 그 요소가 포함된 열을 pivot column이라고 한다.\n",
        "\n",
        "RREF를 만드는 과정에서 pivot이 아닌것은 free-variable이 된다.\n",
        "\n",
        "$\\begin{bmatrix}\n",
        "1 & 0 & -5 & 1 \\\\\n",
        "0 & 1 & 1 & 4 \\\\\n",
        "0 & 0 & 0 & 0\n",
        "\\end{bmatrix}$\n",
        "\n",
        "이를 선형 방정식으로 나타내면\n",
        "\n",
        "$x_1-5x_3=1$\n",
        "\n",
        "$x_2+x_3=4$\n",
        "\n",
        "$0=0$\n",
        "\n",
        "여기서 $x_1$ and $x_2$ 은 basic variables, \n",
        "$x_3$은 free-variable이라고 부른다. free는 어떤 value값을 대입해도 된다라는 뜻이다. RREF에서 pivot이 아닌것은 free-variable이 된다.\n",
        "\n",
        "## **THEOREM 2. Existence and Uniqueness Theorem**\n",
        "\n",
        "이 theorem은 선형 방정식의 해와 free-variable과의 관계를 나타낸 theorem이다.\n",
        "\n",
        "\n",
        "linear system의 argumented matrix가\n",
        "$\\begin{bmatrix}\n",
        "0 & \\cdots & 0 & b\n",
        "\\end{bmatrix}$\n",
        "과 같은 form의 row가 없다면, consistent하다.\n",
        "\n",
        "만약 linear system이 consistent하다면 두 가지 경우를 생각해볼 수 있을 것이다.\n",
        "1. 해가 unique한 경우= free variable이 없는 경우\n",
        "2. 해가 무수히 많은 경우= free variable이 있는 경우\n"
      ]
    },
    {
      "cell_type": "markdown",
      "metadata": {
        "id": "WIblf7j7Ci0I"
      },
      "source": [
        "***1.3 VECTOR EQUATIONS***\n",
        "\n",
        "vector equation을 다루는 도구는 두 가지가 있다.\n",
        "1. sum\n",
        " 벡터의 각 요소들끼리 더한다.\n",
        "2. scalar multiple\n",
        " 각 요소에 scalar의 크기만큼 곱해준다.\n",
        "\n",
        "\n",
        "Vectors in $R^n$\n",
        "\n",
        "u=$\\begin{bmatrix}\n",
        "u_1 \\\\\n",
        "u_2 \\\\\n",
        "\\vdots \\\\\n",
        "u_n \\\\\n",
        "\\end{bmatrix}$\n",
        "라고 나타낸다.\n",
        "\n",
        "* Linear Combinations\n",
        "\n",
        "주어진 벡터 $v_1, v_2, \\cdots, v_p$, 주어진 스칼라 $c_1, c_2, \\cdots, c_p$에 대하여 \n",
        "\n",
        "$ y = c_1v_1+ \\cdots + c_pv_p$ 꼴을 linear combination이라고 한다.\n",
        "\n",
        "만약 $v_1, \\cdots, v_p$이 $R^n$ 포함되면"
      ]
    },
    {
      "cell_type": "markdown",
      "metadata": {
        "id": "caKLu-Jmvzn_"
      },
      "source": [
        ""
      ]
    }
  ]
}