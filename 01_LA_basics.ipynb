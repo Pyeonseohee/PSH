{
  "nbformat": 4,
  "nbformat_minor": 0,
  "metadata": {
    "anaconda-cloud": {},
    "kernelspec": {
      "display_name": "Python 3",
      "language": "python",
      "name": "python3"
    },
    "language_info": {
      "codemirror_mode": {
        "name": "ipython",
        "version": 3
      },
      "file_extension": ".py",
      "mimetype": "text/x-python",
      "name": "python",
      "nbconvert_exporter": "python",
      "pygments_lexer": "ipython3",
      "version": "3.6.9"
    },
    "colab": {
      "name": "01_LA_basics.ipynb",
      "provenance": [],
      "collapsed_sections": [
        "nlVys74CWQOp"
      ],
      "include_colab_link": true
    }
  },
  "cells": [
    {
      "cell_type": "markdown",
      "metadata": {
        "id": "view-in-github",
        "colab_type": "text"
      },
      "source": [
        "<a href=\"https://colab.research.google.com/github/Pyeonseohee/PSH/blob/main/01_LA_basics.ipynb\" target=\"_parent\"><img src=\"https://colab.research.google.com/assets/colab-badge.svg\" alt=\"Open In Colab\"/></a>"
      ]
    },
    {
      "cell_type": "markdown",
      "metadata": {
        "id": "XGWOCH3VWQNc"
      },
      "source": [
        "# Numpy\n",
        "\n",
        "* In order to handle linear algebra by python, [**Numpy**](https://numpy.org/) is most common package!\n",
        "* [**Numpy**](https://numpy.org/) is the fundametal package for scientific computing with python.\n",
        "\n",
        "Python에서 가장 기본적인 모듈이라고 볼 수 있음.\n",
        "\n",
        "We can check the version of [**Numpy**](https://numpy.org/)\n"
      ]
    },
    {
      "cell_type": "code",
      "metadata": {
        "id": "Lp_Bg1QaWQNd",
        "outputId": "e9eb8c6b-7273-47fb-a4be-977477a96578",
        "colab": {
          "base_uri": "https://localhost:8080/",
          "height": 35
        }
      },
      "source": [
        "import numpy as np\n",
        "\n",
        "np.__version__"
      ],
      "execution_count": null,
      "outputs": [
        {
          "output_type": "execute_result",
          "data": {
            "application/vnd.google.colaboratory.intrinsic+json": {
              "type": "string"
            },
            "text/plain": [
              "'1.18.5'"
            ]
          },
          "metadata": {
            "tags": []
          },
          "execution_count": 1
        }
      ]
    },
    {
      "cell_type": "markdown",
      "metadata": {
        "id": "tlQ7SsWnWQNk"
      },
      "source": [
        "# Sympy\n",
        "\n",
        "We also use the [Sympy](https://www.sympy.org/en/index.html). It is a python library for symbolic mathematics.\n",
        "\n",
        "## Symbolic computation\n",
        "\n",
        "> matlab의 symbolic math와 같이, 대수 기호가 들어간 수식을 다루기 위해 개발된 python 기반의 패키지(모듈).\n",
        "> * $\\pi$와 같이 무한한 수를 기호로 표시하여 계산하는 것으로 보통 사람이 푸는 형태로 수식을 풀어냄.\n",
        "> * 즉, symbolic 연산은 **사람이 symbol을 이용하여 방정식을 푸는 것처럼 컴퓨터에서도 symbol을 이용하여 방정식을 푸는 것**을 의미.\n",
        "\n",
        "**Symbolic computation** deals with the computation of mathematical objects symbolically. This means that \n",
        "* the mathematical objects are represented exactly, not approximately, and \n",
        "* mathematical expressions with unevaluated variables are left in symbolic form.\n",
        "\n",
        "## Computer Algebra System (CAS)\n",
        "\n",
        "* 일반적인 수치해석적으로 수식을 푸는 것이 아닌, symbolic computation을 구현하여 수학 기호로 구성된 수식을 처리할 수 있는 S/W들을 가르킴.\n",
        "* Mathematica, Sage등이 대표적임.\n",
        "* Python의 Sympy 모듈 역시 CAS 중 하나라고 볼 수 있음.\n",
        "* Sympy의 경우, Open source이며 제한없이 사용가능하다는 점, 현재 가장 인기있는 Python언어에서 사용가능하다는 등이 장점임."
      ]
    },
    {
      "cell_type": "code",
      "metadata": {
        "id": "1jgSh_PiWQNm",
        "outputId": "ac7fdb5c-b769-4faa-9c3f-df4e0b7bb100",
        "colab": {
          "base_uri": "https://localhost:8080/",
          "height": 35
        }
      },
      "source": [
        "import sympy\n",
        "\n",
        "sympy.__version__"
      ],
      "execution_count": null,
      "outputs": [
        {
          "output_type": "execute_result",
          "data": {
            "application/vnd.google.colaboratory.intrinsic+json": {
              "type": "string"
            },
            "text/plain": [
              "'1.1.1'"
            ]
          },
          "metadata": {
            "tags": []
          },
          "execution_count": 2
        }
      ]
    },
    {
      "cell_type": "markdown",
      "metadata": {
        "id": "9E86LZAeWQNr"
      },
      "source": [
        "기본적으로 `numpy` 만으로도 선형대수의 수치해석적 처리는 충분하다.\n",
        "단, 선형대수 자체를 공부하면서 이용한다면 `sympy`가 보다 편하고, 직접적인 이용가능한 기능이 많다.\n",
        "때문에, 이후에는 `numpy`와 `sympy`를 같이 이용하겠다."
      ]
    },
    {
      "cell_type": "markdown",
      "metadata": {
        "id": "OQ2rt2uDX0u7"
      },
      "source": [
        "If you use ***Google colab***, then run the cell below in order to add LaTeX support to your Colab notebook for SymPy."
      ]
    },
    {
      "cell_type": "code",
      "metadata": {
        "id": "Gf9mwLbJXkA3"
      },
      "source": [
        "import sympy\n",
        "\n",
        "def custom_latex_printer(exp, **options):\n",
        "    from google.colab.output._publish import javascript\n",
        "    url = \"https://cdnjs.cloudflare.com/ajax/libs/mathjax/2.7.3/latest.js?config=default\"\n",
        "    javascript(url=url)\n",
        "    return sympy.printing.latex(exp, **options)\n",
        "\n",
        "sympy.init_printing(use_latex=\"mathjax\", latex_printer=custom_latex_printer)"
      ],
      "execution_count": null,
      "outputs": []
    },
    {
      "cell_type": "markdown",
      "metadata": {
        "id": "LU4NFjMjWQNr"
      },
      "source": [
        "## Matrix Notations\n",
        "\n",
        "* The essential information of a linear system can be represented compactly in a rectangular array called **matrix**. \n",
        "* You should remember **coefficeint matrix** and **augmented matrix**."
      ]
    },
    {
      "cell_type": "code",
      "metadata": {
        "id": "X0keBOOiWQNs",
        "outputId": "01745949-edd7-488d-a1e4-2f49efdca1ec",
        "colab": {
          "base_uri": "https://localhost:8080/",
          "height": 86
        }
      },
      "source": [
        "x = np.random.randint(0,5,size=(3,10))\n",
        "print(x.shape)\n",
        "print(x)"
      ],
      "execution_count": null,
      "outputs": [
        {
          "output_type": "stream",
          "text": [
            "(3, 10)\n",
            "[[4 2 2 4 1 1 4 1 0 2]\n",
            " [1 2 2 1 1 0 3 1 4 0]\n",
            " [2 3 4 2 1 2 0 4 3 2]]\n"
          ],
          "name": "stdout"
        }
      ]
    },
    {
      "cell_type": "markdown",
      "metadata": {
        "id": "4X-cz9fgWne8"
      },
      "source": [
        "For **symbolic computation**, we can use `sympy`."
      ]
    },
    {
      "cell_type": "code",
      "metadata": {
        "id": "mGB_vSw4WQNw",
        "outputId": "295a7c9e-3133-4d50-a445-1cad6fdecf16",
        "colab": {
          "base_uri": "https://localhost:8080/",
          "height": 95
        }
      },
      "source": [
        "#sympy.init_printing() # to enable symbolic representation by using Latex \n",
        "x_sym = sympy.Matrix(x)\n",
        "print('SHAPE OF A=',x_sym.shape)\n",
        "x_sym"
      ],
      "execution_count": null,
      "outputs": [
        {
          "output_type": "stream",
          "text": [
            "SHAPE OF A= (3, 10)\n"
          ],
          "name": "stdout"
        },
        {
          "output_type": "display_data",
          "data": {
            "text/html": [
              "<script src='https://cdnjs.cloudflare.com/ajax/libs/mathjax/2.7.3/latest.js?config=default'></script>"
            ],
            "text/plain": [
              "<IPython.core.display.HTML object>"
            ]
          },
          "metadata": {
            "tags": []
          }
        },
        {
          "output_type": "execute_result",
          "data": {
            "text/latex": "$$\\left[\\begin{matrix}4 & 2 & 2 & 4 & 1 & 1 & 4 & 1 & 0 & 2\\\\1 & 2 & 2 & 1 & 1 & 0 & 3 & 1 & 4 & 0\\\\2 & 3 & 4 & 2 & 1 & 2 & 0 & 4 & 3 & 2\\end{matrix}\\right]$$",
            "text/plain": [
              "⎡4  2  2  4  1  1  4  1  0  2⎤\n",
              "⎢                            ⎥\n",
              "⎢1  2  2  1  1  0  3  1  4  0⎥\n",
              "⎢                            ⎥\n",
              "⎣2  3  4  2  1  2  0  4  3  2⎦"
            ]
          },
          "metadata": {
            "tags": []
          },
          "execution_count": 8
        }
      ]
    },
    {
      "cell_type": "markdown",
      "metadata": {
        "id": "v6a7rZ8yWQNz"
      },
      "source": [
        "# Reduced Row Echelon Form (RREF)"
      ]
    },
    {
      "cell_type": "code",
      "metadata": {
        "id": "Itqm6WU8WQN0",
        "outputId": "f1c7df16-9fbd-48a7-fb9b-f74454c05047",
        "colab": {
          "base_uri": "https://localhost:8080/",
          "height": 78
        }
      },
      "source": [
        "x_ref = x_sym.rref()\n",
        "x_ref"
      ],
      "execution_count": null,
      "outputs": [
        {
          "output_type": "display_data",
          "data": {
            "text/html": [
              "<script src='https://cdnjs.cloudflare.com/ajax/libs/mathjax/2.7.3/latest.js?config=default'></script>"
            ],
            "text/plain": [
              "<IPython.core.display.HTML object>"
            ]
          },
          "metadata": {
            "tags": []
          }
        },
        {
          "output_type": "execute_result",
          "data": {
            "text/latex": "$$\\left ( \\left[\\begin{matrix}1 & 0 & 0 & 1 & 0 & \\frac{1}{3} & \\frac{1}{3} & 0 & - \\frac{4}{3} & \\frac{2}{3}\\\\0 & 1 & 0 & 0 & 1 & -2 & 6 & -2 & 5 & -2\\\\0 & 0 & 1 & 0 & - \\frac{1}{2} & \\frac{11}{6} & - \\frac{14}{3} & \\frac{5}{2} & - \\frac{7}{3} & \\frac{5}{3}\\end{matrix}\\right], \\quad \\left ( 0, \\quad 1, \\quad 2\\right )\\right )$$",
            "text/plain": [
              "⎛⎡1  0  0  1   0    1/3    1/3    0   -4/3  2/3⎤           ⎞\n",
              "⎜⎢                                             ⎥           ⎟\n",
              "⎜⎢0  1  0  0   1     -2     6    -2    5    -2 ⎥, (0, 1, 2)⎟\n",
              "⎜⎢                                             ⎥           ⎟\n",
              "⎝⎣0  0  1  0  -1/2  11/6  -14/3  5/2  -7/3  5/3⎦           ⎠"
            ]
          },
          "metadata": {
            "tags": []
          },
          "execution_count": 9
        }
      ]
    },
    {
      "cell_type": "code",
      "metadata": {
        "id": "FdMntXjWWQN3",
        "outputId": "2fab8710-850b-4e40-8e90-ecacd1f837bc",
        "colab": {
          "base_uri": "https://localhost:8080/",
          "height": 99
        }
      },
      "source": [
        "A = np.array([\n",
        "    [0,-3,-6,4,9],\n",
        "    [-1,-2,-1,3,1],\n",
        "    [-2,-3,0,3,-1],\n",
        "    [1,4,5,-9,-7]])\n",
        "A_sym = sympy.Matrix(A)\n",
        "A_sym"
      ],
      "execution_count": null,
      "outputs": [
        {
          "output_type": "display_data",
          "data": {
            "text/html": [
              "<script src='https://cdnjs.cloudflare.com/ajax/libs/mathjax/2.7.3/latest.js?config=default'></script>"
            ],
            "text/plain": [
              "<IPython.core.display.HTML object>"
            ]
          },
          "metadata": {
            "tags": []
          }
        },
        {
          "output_type": "execute_result",
          "data": {
            "text/latex": "$$\\left[\\begin{matrix}0 & -3 & -6 & 4 & 9\\\\-1 & -2 & -1 & 3 & 1\\\\-2 & -3 & 0 & 3 & -1\\\\1 & 4 & 5 & -9 & -7\\end{matrix}\\right]$$",
            "text/plain": [
              "⎡0   -3  -6  4   9 ⎤\n",
              "⎢                  ⎥\n",
              "⎢-1  -2  -1  3   1 ⎥\n",
              "⎢                  ⎥\n",
              "⎢-2  -3  0   3   -1⎥\n",
              "⎢                  ⎥\n",
              "⎣1   4   5   -9  -7⎦"
            ]
          },
          "metadata": {
            "tags": []
          },
          "execution_count": 10
        }
      ]
    },
    {
      "cell_type": "code",
      "metadata": {
        "id": "a9LTS04NWQN7",
        "outputId": "57c4448b-26c0-4391-d2a4-c2453eff4cc9",
        "colab": {
          "base_uri": "https://localhost:8080/",
          "height": 99
        }
      },
      "source": [
        "A_ref = A_sym.rref()\n",
        "A_ref"
      ],
      "execution_count": null,
      "outputs": [
        {
          "output_type": "display_data",
          "data": {
            "text/html": [
              "<script src='https://cdnjs.cloudflare.com/ajax/libs/mathjax/2.7.3/latest.js?config=default'></script>"
            ],
            "text/plain": [
              "<IPython.core.display.HTML object>"
            ]
          },
          "metadata": {
            "tags": []
          }
        },
        {
          "output_type": "execute_result",
          "data": {
            "text/latex": "$$\\left ( \\left[\\begin{matrix}1 & 0 & -3 & 0 & 5\\\\0 & 1 & 2 & 0 & -3\\\\0 & 0 & 0 & 1 & 0\\\\0 & 0 & 0 & 0 & 0\\end{matrix}\\right], \\quad \\left ( 0, \\quad 1, \\quad 3\\right )\\right )$$",
            "text/plain": [
              "⎛⎡1  0  -3  0  5 ⎤           ⎞\n",
              "⎜⎢               ⎥           ⎟\n",
              "⎜⎢0  1  2   0  -3⎥           ⎟\n",
              "⎜⎢               ⎥, (0, 1, 3)⎟\n",
              "⎜⎢0  0  0   1  0 ⎥           ⎟\n",
              "⎜⎢               ⎥           ⎟\n",
              "⎝⎣0  0  0   0  0 ⎦           ⎠"
            ]
          },
          "metadata": {
            "tags": []
          },
          "execution_count": 11
        }
      ]
    },
    {
      "cell_type": "code",
      "metadata": {
        "id": "opQt1tZpWQOB",
        "outputId": "7c95b824-7b14-4963-c297-0ef53bd015de",
        "colab": {
          "base_uri": "https://localhost:8080/",
          "height": 78
        }
      },
      "source": [
        "A = np.array([0,3,-6,6,4,-5,3,-7,8,-5,8,9,3,-9,12,-9,6,15])\n",
        "A = A.reshape((3,-1))\n",
        "A_sym = sympy.Matrix(A)\n",
        "A_sym"
      ],
      "execution_count": null,
      "outputs": [
        {
          "output_type": "display_data",
          "data": {
            "text/html": [
              "<script src='https://cdnjs.cloudflare.com/ajax/libs/mathjax/2.7.3/latest.js?config=default'></script>"
            ],
            "text/plain": [
              "<IPython.core.display.HTML object>"
            ]
          },
          "metadata": {
            "tags": []
          }
        },
        {
          "output_type": "execute_result",
          "data": {
            "text/latex": "$$\\left[\\begin{matrix}0 & 3 & -6 & 6 & 4 & -5\\\\3 & -7 & 8 & -5 & 8 & 9\\\\3 & -9 & 12 & -9 & 6 & 15\\end{matrix}\\right]$$",
            "text/plain": [
              "⎡0  3   -6  6   4  -5⎤\n",
              "⎢                    ⎥\n",
              "⎢3  -7  8   -5  8  9 ⎥\n",
              "⎢                    ⎥\n",
              "⎣3  -9  12  -9  6  15⎦"
            ]
          },
          "metadata": {
            "tags": []
          },
          "execution_count": 12
        }
      ]
    },
    {
      "cell_type": "code",
      "metadata": {
        "id": "VdBFTFY6WQOG",
        "outputId": "ebc67eee-8d0b-4ea8-d480-190b6aa14c3a",
        "colab": {
          "base_uri": "https://localhost:8080/",
          "height": 95
        }
      },
      "source": [
        "A_ref = A_sym.rref()\n",
        "print(type(A_ref),type(A_ref[0]),type(A_ref[1]))\n",
        "A_ref"
      ],
      "execution_count": null,
      "outputs": [
        {
          "output_type": "stream",
          "text": [
            "<class 'tuple'> <class 'sympy.matrices.dense.MutableDenseMatrix'> <class 'tuple'>\n"
          ],
          "name": "stdout"
        },
        {
          "output_type": "display_data",
          "data": {
            "text/html": [
              "<script src='https://cdnjs.cloudflare.com/ajax/libs/mathjax/2.7.3/latest.js?config=default'></script>"
            ],
            "text/plain": [
              "<IPython.core.display.HTML object>"
            ]
          },
          "metadata": {
            "tags": []
          }
        },
        {
          "output_type": "execute_result",
          "data": {
            "text/latex": "$$\\left ( \\left[\\begin{matrix}1 & 0 & -2 & 3 & 0 & -24\\\\0 & 1 & -2 & 2 & 0 & -7\\\\0 & 0 & 0 & 0 & 1 & 4\\end{matrix}\\right], \\quad \\left ( 0, \\quad 1, \\quad 4\\right )\\right )$$",
            "text/plain": [
              "⎛⎡1  0  -2  3  0  -24⎤           ⎞\n",
              "⎜⎢                   ⎥           ⎟\n",
              "⎜⎢0  1  -2  2  0  -7 ⎥, (0, 1, 4)⎟\n",
              "⎜⎢                   ⎥           ⎟\n",
              "⎝⎣0  0  0   0  1   4 ⎦           ⎠"
            ]
          },
          "metadata": {
            "tags": []
          },
          "execution_count": 15
        }
      ]
    },
    {
      "cell_type": "code",
      "metadata": {
        "id": "8gtNu72yWQOI"
      },
      "source": [
        "A = np.array([1,0,-5,0,1,1,0,0,0])\n",
        "B = np.array([1,4,0])"
      ],
      "execution_count": null,
      "outputs": []
    },
    {
      "cell_type": "code",
      "metadata": {
        "id": "2L5588mDWQOJ",
        "outputId": "3f3c3cc7-fa61-4c35-89b5-78bd489cb327",
        "colab": {
          "base_uri": "https://localhost:8080/",
          "height": 95
        }
      },
      "source": [
        "A = A.reshape((3,-1))\n",
        "A_sym = sympy.Matrix(A)\n",
        "print(A_sym.shape)\n",
        "A_sym"
      ],
      "execution_count": null,
      "outputs": [
        {
          "output_type": "stream",
          "text": [
            "(3, 3)\n"
          ],
          "name": "stdout"
        },
        {
          "output_type": "display_data",
          "data": {
            "text/html": [
              "<script src='https://cdnjs.cloudflare.com/ajax/libs/mathjax/2.7.3/latest.js?config=default'></script>"
            ],
            "text/plain": [
              "<IPython.core.display.HTML object>"
            ]
          },
          "metadata": {
            "tags": []
          }
        },
        {
          "output_type": "execute_result",
          "data": {
            "text/latex": "$$\\left[\\begin{matrix}1 & 0 & -5\\\\0 & 1 & 1\\\\0 & 0 & 0\\end{matrix}\\right]$$",
            "text/plain": [
              "⎡1  0  -5⎤\n",
              "⎢        ⎥\n",
              "⎢0  1  1 ⎥\n",
              "⎢        ⎥\n",
              "⎣0  0  0 ⎦"
            ]
          },
          "metadata": {
            "tags": []
          },
          "execution_count": 20
        }
      ]
    },
    {
      "cell_type": "code",
      "metadata": {
        "id": "yA1VhR4AWQOO",
        "outputId": "97ac3d89-0602-4bcb-c9c0-ab65769f5171",
        "colab": {
          "base_uri": "https://localhost:8080/",
          "height": 95
        }
      },
      "source": [
        "B_sym = sympy.Matrix(B)\n",
        "print(B_sym.shape)\n",
        "B_sym"
      ],
      "execution_count": null,
      "outputs": [
        {
          "output_type": "stream",
          "text": [
            "(3, 1)\n"
          ],
          "name": "stdout"
        },
        {
          "output_type": "display_data",
          "data": {
            "text/html": [
              "<script src='https://cdnjs.cloudflare.com/ajax/libs/mathjax/2.7.3/latest.js?config=default'></script>"
            ],
            "text/plain": [
              "<IPython.core.display.HTML object>"
            ]
          },
          "metadata": {
            "tags": []
          }
        },
        {
          "output_type": "execute_result",
          "data": {
            "text/latex": "$$\\left[\\begin{matrix}1\\\\4\\\\0\\end{matrix}\\right]$$",
            "text/plain": [
              "⎡1⎤\n",
              "⎢ ⎥\n",
              "⎢4⎥\n",
              "⎢ ⎥\n",
              "⎣0⎦"
            ]
          },
          "metadata": {
            "tags": []
          },
          "execution_count": 19
        }
      ]
    },
    {
      "cell_type": "code",
      "metadata": {
        "id": "QjriXqIXO9Nz",
        "outputId": "fb80ae3e-af3a-4a92-925f-159706367302",
        "colab": {
          "base_uri": "https://localhost:8080/",
          "height": 78
        }
      },
      "source": [
        "Augmented_M = A_sym.row_join(B_sym)\n",
        "Augmented_M"
      ],
      "execution_count": null,
      "outputs": [
        {
          "output_type": "display_data",
          "data": {
            "text/html": [
              "<script src='https://cdnjs.cloudflare.com/ajax/libs/mathjax/2.7.3/latest.js?config=default'></script>"
            ],
            "text/plain": [
              "<IPython.core.display.HTML object>"
            ]
          },
          "metadata": {
            "tags": []
          }
        },
        {
          "output_type": "execute_result",
          "data": {
            "text/latex": "$$\\left[\\begin{matrix}1 & 0 & -5 & 1\\\\0 & 1 & 1 & 4\\\\0 & 0 & 0 & 0\\end{matrix}\\right]$$",
            "text/plain": [
              "⎡1  0  -5  1⎤\n",
              "⎢           ⎥\n",
              "⎢0  1  1   4⎥\n",
              "⎢           ⎥\n",
              "⎣0  0  0   0⎦"
            ]
          },
          "metadata": {
            "tags": []
          },
          "execution_count": 32
        }
      ]
    },
    {
      "cell_type": "code",
      "metadata": {
        "id": "Mcpz1sQGQZqz",
        "outputId": "498376ca-8ce5-49e2-c0ad-19115600592e",
        "colab": {
          "base_uri": "https://localhost:8080/",
          "height": 78
        }
      },
      "source": [
        "Augmented_M.rref()"
      ],
      "execution_count": null,
      "outputs": [
        {
          "output_type": "display_data",
          "data": {
            "text/html": [
              "<script src='https://cdnjs.cloudflare.com/ajax/libs/mathjax/2.7.3/latest.js?config=default'></script>"
            ],
            "text/plain": [
              "<IPython.core.display.HTML object>"
            ]
          },
          "metadata": {
            "tags": []
          }
        },
        {
          "output_type": "execute_result",
          "data": {
            "text/latex": "$$\\left ( \\left[\\begin{matrix}1 & 0 & -5 & 1\\\\0 & 1 & 1 & 4\\\\0 & 0 & 0 & 0\\end{matrix}\\right], \\quad \\left ( 0, \\quad 1\\right )\\right )$$",
            "text/plain": [
              "⎛⎡1  0  -5  1⎤        ⎞\n",
              "⎜⎢           ⎥        ⎟\n",
              "⎜⎢0  1  1   4⎥, (0, 1)⎟\n",
              "⎜⎢           ⎥        ⎟\n",
              "⎝⎣0  0  0   0⎦        ⎠"
            ]
          },
          "metadata": {
            "tags": []
          },
          "execution_count": 34
        }
      ]
    },
    {
      "cell_type": "code",
      "metadata": {
        "id": "kJ81lZGnWQOQ",
        "outputId": "08e77949-217e-49fc-87ce-fa23397b32f1",
        "colab": {
          "base_uri": "https://localhost:8080/",
          "height": 34
        }
      },
      "source": [
        "if 0 != np.linalg.det(A):\n",
        "    np.linalg.solve(A,B)\n",
        "else :\n",
        "    print('Solutin is either infinitely muptiple or none')"
      ],
      "execution_count": null,
      "outputs": [
        {
          "output_type": "stream",
          "text": [
            "Solutin is either infinitely muptiple or none\n"
          ],
          "name": "stdout"
        }
      ]
    },
    {
      "cell_type": "markdown",
      "metadata": {
        "id": "_EfgkWNKWQOR"
      },
      "source": [
        "# Variety Form of Matrix\n",
        "\n",
        "$A\\in \\mathbb{R}^{n \\times n}$ : **Square** matrix\n",
        "* #_of_rows = #_or_columns\n",
        "* e.g. $A=\\begin{bmatrix}1&2\\\\3&4\\end{bmatrix}$\n",
        "\n",
        "$B\\in \\mathbb{R}^{m \\times n}$ : **Rectangular** matrix\n",
        "* $ \\text{#_of_rows} = \\text{#_or_columns}$ OR $ \\text{#_of_rows} \\ne \\text{#_or_columns}$\n",
        "  * SquareMatrix $\\subset$ RectangularMatrix\n",
        "* e.g. $B=\\begin{bmatrix}1&2\\\\3&4\\\\5&6\\end{bmatrix}$\n",
        "\n",
        "$B^T$ : **Transpose** of matrix $B$ : mirroring across the main diagonal\n",
        "* e.g. $B=\\begin{bmatrix}1&2\\\\3&4\\\\5&6\\end{bmatrix}$ , $B^T=\\begin{bmatrix}1&3&5\\\\2&4&6\\end{bmatrix}$\n",
        "\n",
        "$B_{i,j}$ : $(i,j)$th component of $B$\n",
        "* e.g. $B_{2,1}=3$\n",
        "\n",
        "$B_{i,:}$ : $(i)$th row of $B$\n",
        "* e.g. $B_{2,:}=\\begin{bmatrix}3&4\\end{bmatrix}$\n",
        "\n",
        "$B_{:,j}$ : $(j)$th column of $B$\n",
        "* e.g. $B_{:,2}=\\begin{bmatrix}2\\\\4\\\\6\\end{bmatrix}$"
      ]
    },
    {
      "cell_type": "code",
      "metadata": {
        "scrolled": true,
        "id": "ZcwvHdxgWQOS",
        "outputId": "c66b08c2-c4bd-46af-9bb7-b72d84e1ed97",
        "colab": {
          "base_uri": "https://localhost:8080/",
          "height": 126
        }
      },
      "source": [
        "# creating a square matrix\n",
        "A=np.array([[1,2],[3,4]])\n",
        "print ('square matrix')\n",
        "print (A)\n",
        "print ('shape:', A.shape)\n",
        "sympy.Matrix(A)"
      ],
      "execution_count": null,
      "outputs": [
        {
          "output_type": "stream",
          "text": [
            "square matrix\n",
            "[[1 2]\n",
            " [3 4]]\n",
            "shape: (2, 2)\n"
          ],
          "name": "stdout"
        },
        {
          "output_type": "display_data",
          "data": {
            "text/html": [
              "<script src='https://cdnjs.cloudflare.com/ajax/libs/mathjax/2.7.3/latest.js?config=default'></script>"
            ],
            "text/plain": [
              "<IPython.core.display.HTML object>"
            ]
          },
          "metadata": {
            "tags": []
          }
        },
        {
          "output_type": "execute_result",
          "data": {
            "text/latex": "$$\\left[\\begin{matrix}1 & 2\\\\3 & 4\\end{matrix}\\right]$$",
            "text/plain": [
              "⎡1  2⎤\n",
              "⎢    ⎥\n",
              "⎣3  4⎦"
            ]
          },
          "metadata": {
            "tags": []
          },
          "execution_count": 36
        }
      ]
    },
    {
      "cell_type": "code",
      "metadata": {
        "scrolled": true,
        "id": "hMBEWvYMWQOT",
        "outputId": "6a7f032b-a58c-44e0-ac50-14a28bc6584d",
        "colab": {
          "base_uri": "https://localhost:8080/",
          "height": 164
        }
      },
      "source": [
        "# creating a rectangular matrix\n",
        "B=np.array([[1,2],[3,4],[5,6]])\n",
        "print ('rectangular matrix')\n",
        "print (B)\n",
        "print ('shape:', B.shape)\n",
        "sympy.Matrix(B)"
      ],
      "execution_count": null,
      "outputs": [
        {
          "output_type": "stream",
          "text": [
            "rectangular matrix\n",
            "[[1 2]\n",
            " [3 4]\n",
            " [5 6]]\n",
            "shape: (3, 2)\n"
          ],
          "name": "stdout"
        },
        {
          "output_type": "display_data",
          "data": {
            "text/html": [
              "<script src='https://cdnjs.cloudflare.com/ajax/libs/mathjax/2.7.3/latest.js?config=default'></script>"
            ],
            "text/plain": [
              "<IPython.core.display.HTML object>"
            ]
          },
          "metadata": {
            "tags": []
          }
        },
        {
          "output_type": "execute_result",
          "data": {
            "text/latex": "$$\\left[\\begin{matrix}1 & 2\\\\3 & 4\\\\5 & 6\\end{matrix}\\right]$$",
            "text/plain": [
              "⎡1  2⎤\n",
              "⎢    ⎥\n",
              "⎢3  4⎥\n",
              "⎢    ⎥\n",
              "⎣5  6⎦"
            ]
          },
          "metadata": {
            "tags": []
          },
          "execution_count": 37
        }
      ]
    },
    {
      "cell_type": "code",
      "metadata": {
        "scrolled": true,
        "id": "iRP2r6UoWQOU",
        "outputId": "1769afbc-2d00-4747-dd25-f9b45e9798de",
        "colab": {
          "base_uri": "https://localhost:8080/",
          "height": 109
        }
      },
      "source": [
        "# transpose of a matrix\n",
        "C= B.T\n",
        "print ('transpose of a matrix')\n",
        "print (C)\n",
        "sympy.Matrix(C)"
      ],
      "execution_count": null,
      "outputs": [
        {
          "output_type": "stream",
          "text": [
            "transpose of a matrix\n",
            "[[1 3 5]\n",
            " [2 4 6]]\n"
          ],
          "name": "stdout"
        },
        {
          "output_type": "display_data",
          "data": {
            "text/html": [
              "<script src='https://cdnjs.cloudflare.com/ajax/libs/mathjax/2.7.3/latest.js?config=default'></script>"
            ],
            "text/plain": [
              "<IPython.core.display.HTML object>"
            ]
          },
          "metadata": {
            "tags": []
          }
        },
        {
          "output_type": "execute_result",
          "data": {
            "text/latex": "$$\\left[\\begin{matrix}1 & 3 & 5\\\\2 & 4 & 6\\end{matrix}\\right]$$",
            "text/plain": [
              "⎡1  3  5⎤\n",
              "⎢       ⎥\n",
              "⎣2  4  6⎦"
            ]
          },
          "metadata": {
            "tags": []
          },
          "execution_count": 38
        }
      ]
    },
    {
      "cell_type": "code",
      "metadata": {
        "scrolled": true,
        "id": "ATNRGOREWQOV",
        "outputId": "6ad07ca8-fc48-4d5f-f081-7e4defda26f9",
        "colab": {
          "base_uri": "https://localhost:8080/",
          "height": 112
        }
      },
      "source": [
        "# component of matrix\n",
        "c = B[2,1]\n",
        "print ('B[2,1]=',c)\n",
        "B_sym = sympy.Matrix(B)\n",
        "print(B_sym[2,1]) #0부터 시작하는 걸 잊지 말 것!\n",
        "B_sym"
      ],
      "execution_count": null,
      "outputs": [
        {
          "output_type": "stream",
          "text": [
            "B[2,1]= 6\n",
            "6\n"
          ],
          "name": "stdout"
        },
        {
          "output_type": "display_data",
          "data": {
            "text/html": [
              "<script src='https://cdnjs.cloudflare.com/ajax/libs/mathjax/2.7.3/latest.js?config=default'></script>"
            ],
            "text/plain": [
              "<IPython.core.display.HTML object>"
            ]
          },
          "metadata": {
            "tags": []
          }
        },
        {
          "output_type": "execute_result",
          "data": {
            "text/latex": "$$\\left[\\begin{matrix}1 & 2\\\\3 & 4\\\\5 & 6\\end{matrix}\\right]$$",
            "text/plain": [
              "⎡1  2⎤\n",
              "⎢    ⎥\n",
              "⎢3  4⎥\n",
              "⎢    ⎥\n",
              "⎣5  6⎦"
            ]
          },
          "metadata": {
            "tags": []
          },
          "execution_count": 42
        }
      ]
    },
    {
      "cell_type": "code",
      "metadata": {
        "scrolled": true,
        "id": "YycjsYowWQOW",
        "outputId": "5e81a6d8-1434-4eb5-efbe-ebaa99b8f5db",
        "colab": {
          "base_uri": "https://localhost:8080/",
          "height": 55
        }
      },
      "source": [
        "# i-th row of matrix\n",
        "B2 = B[1,:]\n",
        "print ('B[1,:]=',B2)\n",
        "B_sym[1,:]"
      ],
      "execution_count": null,
      "outputs": [
        {
          "output_type": "stream",
          "text": [
            "B[1,:]= [3 4]\n"
          ],
          "name": "stdout"
        },
        {
          "output_type": "display_data",
          "data": {
            "text/html": [
              "<script src='https://cdnjs.cloudflare.com/ajax/libs/mathjax/2.7.3/latest.js?config=default'></script>"
            ],
            "text/plain": [
              "<IPython.core.display.HTML object>"
            ]
          },
          "metadata": {
            "tags": []
          }
        },
        {
          "output_type": "execute_result",
          "data": {
            "text/latex": "$$\\left[\\begin{matrix}3 & 4\\end{matrix}\\right]$$",
            "text/plain": [
              "[3  4]"
            ]
          },
          "metadata": {
            "tags": []
          },
          "execution_count": 44
        }
      ]
    },
    {
      "cell_type": "code",
      "metadata": {
        "scrolled": true,
        "id": "W-SPP8nUWQOY",
        "outputId": "69803b83-bc2e-4a55-9d52-bab58dd6f17d",
        "colab": {
          "base_uri": "https://localhost:8080/",
          "height": 71
        }
      },
      "source": [
        "B3 = B[1] # another method to get i-th row of matrix\n",
        "print ('B[1]=',B3)\n",
        "print ('note that the difference between sympy matrix!')\n",
        "B_sym[1]"
      ],
      "execution_count": null,
      "outputs": [
        {
          "output_type": "stream",
          "text": [
            "B[1]= [3 4]\n",
            "note that the difference between sympy matrix!\n"
          ],
          "name": "stdout"
        },
        {
          "output_type": "display_data",
          "data": {
            "text/html": [
              "<script src='https://cdnjs.cloudflare.com/ajax/libs/mathjax/2.7.3/latest.js?config=default'></script>"
            ],
            "text/plain": [
              "<IPython.core.display.HTML object>"
            ]
          },
          "metadata": {
            "tags": []
          }
        },
        {
          "output_type": "execute_result",
          "data": {
            "text/latex": "$$2$$",
            "text/plain": [
              "2"
            ]
          },
          "metadata": {
            "tags": []
          },
          "execution_count": 47
        }
      ]
    },
    {
      "cell_type": "code",
      "metadata": {
        "scrolled": true,
        "id": "nDJylZdmWQOY",
        "outputId": "834beac3-32ad-4b66-9990-2513bcd6c812",
        "colab": {
          "base_uri": "https://localhost:8080/",
          "height": 95
        }
      },
      "source": [
        "# i-th column of matrix\n",
        "B3 = B[:,1]\n",
        "print ('B[:,1]=',B3)\n",
        "sympy.Matrix(B3)"
      ],
      "execution_count": null,
      "outputs": [
        {
          "output_type": "stream",
          "text": [
            "B[:,1]= [2 4 6]\n"
          ],
          "name": "stdout"
        },
        {
          "output_type": "display_data",
          "data": {
            "text/html": [
              "<script src='https://cdnjs.cloudflare.com/ajax/libs/mathjax/2.7.3/latest.js?config=default'></script>"
            ],
            "text/plain": [
              "<IPython.core.display.HTML object>"
            ]
          },
          "metadata": {
            "tags": []
          }
        },
        {
          "output_type": "execute_result",
          "data": {
            "text/latex": "$$\\left[\\begin{matrix}2\\\\4\\\\6\\end{matrix}\\right]$$",
            "text/plain": [
              "⎡2⎤\n",
              "⎢ ⎥\n",
              "⎢4⎥\n",
              "⎢ ⎥\n",
              "⎣6⎦"
            ]
          },
          "metadata": {
            "tags": []
          },
          "execution_count": 48
        }
      ]
    },
    {
      "cell_type": "markdown",
      "metadata": {
        "id": "72LWetecWQOa"
      },
      "source": [
        "# Vector \n",
        "\n",
        "In simplicity, **Vector** is an ordered list of numbers.\n",
        "* one-dimentional array.\n",
        "* for more detail, refer the vector space (Ch4)\n",
        "\n",
        "In Numpy, **Vector** is a simple 1-D array!. "
      ]
    },
    {
      "cell_type": "code",
      "metadata": {
        "id": "XzqtmypzWQOa",
        "outputId": "949583c7-75ef-4ee2-e126-5d076c629707",
        "colab": {
          "base_uri": "https://localhost:8080/",
          "height": 34
        }
      },
      "source": [
        "# 1 dimensional array : vector.\n",
        "# column vector\n",
        "c = np.array([1,2,3])\n",
        "print(c.shape)"
      ],
      "execution_count": null,
      "outputs": [
        {
          "output_type": "stream",
          "text": [
            "(3,)\n"
          ],
          "name": "stdout"
        }
      ]
    },
    {
      "cell_type": "markdown",
      "metadata": {
        "id": "mYuRaURlZS2-"
      },
      "source": [
        "In ***sympy***, **Vector** is basically a **column vector**."
      ]
    },
    {
      "cell_type": "code",
      "metadata": {
        "id": "n3higLgtYixy",
        "outputId": "308ad5d4-d262-4d4a-9106-ebe2f56b1724",
        "colab": {
          "base_uri": "https://localhost:8080/",
          "height": 95
        }
      },
      "source": [
        "c_sym = sympy.Matrix(c)\n",
        "print(c_sym)\n",
        "c_sym"
      ],
      "execution_count": null,
      "outputs": [
        {
          "output_type": "stream",
          "text": [
            "Matrix([[1], [2], [3]])\n"
          ],
          "name": "stdout"
        },
        {
          "output_type": "display_data",
          "data": {
            "text/html": [
              "<script src='https://cdnjs.cloudflare.com/ajax/libs/mathjax/2.7.3/latest.js?config=default'></script>"
            ],
            "text/plain": [
              "<IPython.core.display.HTML object>"
            ]
          },
          "metadata": {
            "tags": []
          }
        },
        {
          "output_type": "execute_result",
          "data": {
            "text/latex": "$$\\left[\\begin{matrix}1\\\\2\\\\3\\end{matrix}\\right]$$",
            "text/plain": [
              "⎡1⎤\n",
              "⎢ ⎥\n",
              "⎢2⎥\n",
              "⎢ ⎥\n",
              "⎣3⎦"
            ]
          },
          "metadata": {
            "tags": []
          },
          "execution_count": 50
        }
      ]
    },
    {
      "cell_type": "markdown",
      "metadata": {
        "id": "e6BIMY5MWQOb"
      },
      "source": [
        "# Access the element of vector\n",
        "\n",
        "* We can access the element of vector by **index**."
      ]
    },
    {
      "cell_type": "code",
      "metadata": {
        "id": "SSuOI3E8WQOb",
        "outputId": "aaa4032d-35c8-45ae-b185-a7e36bb5a0d3",
        "colab": {
          "base_uri": "https://localhost:8080/",
          "height": 120
        }
      },
      "source": [
        "#----------------------------\n",
        "# obtaining a particular entry\n",
        "print ('c[0]=',c[0])\n",
        "print ('c[1]=',c[1])\n",
        "\n",
        "print('=====================')\n",
        "for idx,v in enumerate(c):\n",
        "    print('c[{}]={}'.format(idx,v))"
      ],
      "execution_count": null,
      "outputs": [
        {
          "output_type": "stream",
          "text": [
            "c[0]= 1\n",
            "c[1]= 2\n",
            "=====================\n",
            "c[0]=1\n",
            "c[1]=2\n",
            "c[2]=3\n"
          ],
          "name": "stdout"
        }
      ]
    },
    {
      "cell_type": "markdown",
      "metadata": {
        "id": "U4-nQ1KNWQOc"
      },
      "source": [
        "# Column vector\n",
        "\n",
        "* Numpy and Matlab is based on the column vector. \n",
        "  * However, C based raw implementation commonly used the row vector. \n",
        "* We also used the column vector to represent the vector.\n",
        "\n",
        "Follwing script show the row vector in Numpy:"
      ]
    },
    {
      "cell_type": "code",
      "metadata": {
        "id": "CSh50bjPWQOc",
        "outputId": "64850c10-e798-4b9d-c126-3a9a72e3ce7f",
        "colab": {
          "base_uri": "https://localhost:8080/",
          "height": 51
        }
      },
      "source": [
        "r = np.array([ [1,2,3] ])\n",
        "print (r.shape)\n",
        "\n",
        "# obtaining a particular entry\n",
        "print (r[0,1])"
      ],
      "execution_count": null,
      "outputs": [
        {
          "output_type": "stream",
          "text": [
            "(1, 3)\n",
            "2\n"
          ],
          "name": "stdout"
        }
      ]
    },
    {
      "cell_type": "code",
      "metadata": {
        "id": "GhlqRdaQWQOd",
        "outputId": "88dbe627-6b54-4503-9d8d-6a68108a8180",
        "colab": {
          "base_uri": "https://localhost:8080/",
          "height": 154
        }
      },
      "source": [
        "# creating a matrix with all zeros\n",
        "a = np.zeros((2,2))\n",
        "print (a)\n",
        "\n",
        "# creating a matrix with all ones\n",
        "b = np.ones((2,2))\n",
        "print (b)\n",
        "             \n",
        "# creating a matrix filled with the same constant\n",
        "c = np.full((2,2), 7)\n",
        "print (c)\n",
        "             \n",
        "# creating a matrix with random values\n",
        "d = np.random.random((2,2))\n",
        "print (d)"
      ],
      "execution_count": null,
      "outputs": [
        {
          "output_type": "stream",
          "text": [
            "[[0. 0.]\n",
            " [0. 0.]]\n",
            "[[1. 1.]\n",
            " [1. 1.]]\n",
            "[[7 7]\n",
            " [7 7]]\n",
            "[[0.19863324 0.25229075]\n",
            " [0.90554406 0.7346752 ]]\n"
          ],
          "name": "stdout"
        }
      ]
    },
    {
      "cell_type": "markdown",
      "metadata": {
        "id": "L8XwPGNJWQOe"
      },
      "source": [
        "## Vector/Matrix Additions and Multiplications\n",
        "\n",
        "$C=A+B \\textbf{c}=\\textbf{a}+\\textbf{b}$ : Element-wise **addition**\n",
        "* i.e., $C_{i,j} = A_{i,j}+B_{i,j}$\n",
        "* $A,B,C$ should have the same size, i.e., $A,B,C \\in \\mathbb{R}^{m\\times n}$"
      ]
    },
    {
      "cell_type": "code",
      "metadata": {
        "id": "3KFEF7BCWQOe",
        "outputId": "661a030f-9793-4e8f-bc06-2e4ea399862e",
        "colab": {
          "base_uri": "https://localhost:8080/",
          "height": 95
        }
      },
      "source": [
        "v1 = np.array([1,2,3])\n",
        "v2 = np.array([4,5,6])\n",
        "v3 = v1+v2\n",
        "print('v1+v2=')\n",
        "sympy.Matrix(v3)"
      ],
      "execution_count": null,
      "outputs": [
        {
          "output_type": "stream",
          "text": [
            "v1+v2=\n"
          ],
          "name": "stdout"
        },
        {
          "output_type": "display_data",
          "data": {
            "text/html": [
              "<script src='https://cdnjs.cloudflare.com/ajax/libs/mathjax/2.7.3/latest.js?config=default'></script>"
            ],
            "text/plain": [
              "<IPython.core.display.HTML object>"
            ]
          },
          "metadata": {
            "tags": []
          }
        },
        {
          "output_type": "execute_result",
          "data": {
            "text/latex": "$$\\left[\\begin{matrix}5\\\\7\\\\9\\end{matrix}\\right]$$",
            "text/plain": [
              "⎡5⎤\n",
              "⎢ ⎥\n",
              "⎢7⎥\n",
              "⎢ ⎥\n",
              "⎣9⎦"
            ]
          },
          "metadata": {
            "tags": []
          },
          "execution_count": 54
        }
      ]
    },
    {
      "cell_type": "code",
      "metadata": {
        "id": "hbKX2Cn9WQOf",
        "outputId": "aef1a9bc-4adf-4885-aa2f-c3e1aa027a17",
        "colab": {
          "base_uri": "https://localhost:8080/",
          "height": 75
        }
      },
      "source": [
        "A = np.array([[1,2,3],[4,5,6]])\n",
        "B = np.array([[7,8,9],[10,11,12]])\n",
        "C = A+B\n",
        "print('A+B=')\n",
        "sympy.Matrix(C)"
      ],
      "execution_count": null,
      "outputs": [
        {
          "output_type": "stream",
          "text": [
            "A+B=\n"
          ],
          "name": "stdout"
        },
        {
          "output_type": "display_data",
          "data": {
            "text/html": [
              "<script src='https://cdnjs.cloudflare.com/ajax/libs/mathjax/2.7.3/latest.js?config=default'></script>"
            ],
            "text/plain": [
              "<IPython.core.display.HTML object>"
            ]
          },
          "metadata": {
            "tags": []
          }
        },
        {
          "output_type": "execute_result",
          "data": {
            "text/latex": "$$\\left[\\begin{matrix}8 & 10 & 12\\\\14 & 16 & 18\\end{matrix}\\right]$$",
            "text/plain": [
              "⎡8   10  12⎤\n",
              "⎢          ⎥\n",
              "⎣14  16  18⎦"
            ]
          },
          "metadata": {
            "tags": []
          },
          "execution_count": 55
        }
      ]
    },
    {
      "cell_type": "markdown",
      "metadata": {
        "id": "E_HnEoZ_WQOf"
      },
      "source": [
        "$c\\textbf{a}, cA$ : **Scalar multiple** of vector or matrix\n",
        "* e.g., $3\\begin{bmatrix}1\\\\2\\\\3\\end{bmatrix}=\\begin{bmatrix}3\\\\6\\\\9\\end{bmatrix}$, $2\\begin{bmatrix}1&2\\\\3&4\\\\5&6\\end{bmatrix}=\\begin{bmatrix}2&4\\\\6&8\\\\10&12\\end{bmatrix}$"
      ]
    },
    {
      "cell_type": "code",
      "metadata": {
        "id": "DLCWCeacWQOg",
        "outputId": "73e03930-6e03-4992-815b-c532e2c045c3",
        "colab": {
          "base_uri": "https://localhost:8080/",
          "height": 95
        }
      },
      "source": [
        "A = np.array([1,2,3])\n",
        "c = 3\n",
        "ans = c*A\n",
        "print('cA=')\n",
        "sympy.Matrix(ans)"
      ],
      "execution_count": null,
      "outputs": [
        {
          "output_type": "stream",
          "text": [
            "cA=\n"
          ],
          "name": "stdout"
        },
        {
          "output_type": "display_data",
          "data": {
            "text/html": [
              "<script src='https://cdnjs.cloudflare.com/ajax/libs/mathjax/2.7.3/latest.js?config=default'></script>"
            ],
            "text/plain": [
              "<IPython.core.display.HTML object>"
            ]
          },
          "metadata": {
            "tags": []
          }
        },
        {
          "output_type": "execute_result",
          "data": {
            "text/latex": "$$\\left[\\begin{matrix}3\\\\6\\\\9\\end{matrix}\\right]$$",
            "text/plain": [
              "⎡3⎤\n",
              "⎢ ⎥\n",
              "⎢6⎥\n",
              "⎢ ⎥\n",
              "⎣9⎦"
            ]
          },
          "metadata": {
            "tags": []
          },
          "execution_count": 56
        }
      ]
    },
    {
      "cell_type": "code",
      "metadata": {
        "id": "jqXJjM_7WQOg",
        "outputId": "033c31b1-2db8-4057-95b2-a61137a3fc3e",
        "colab": {
          "base_uri": "https://localhost:8080/",
          "height": 95
        }
      },
      "source": [
        "A = np.array([[1,2],[3,4],[5,6]])\n",
        "c = 2\n",
        "ans = c*A\n",
        "print('cA=')\n",
        "sympy.Matrix(ans)"
      ],
      "execution_count": null,
      "outputs": [
        {
          "output_type": "stream",
          "text": [
            "cA=\n"
          ],
          "name": "stdout"
        },
        {
          "output_type": "display_data",
          "data": {
            "text/html": [
              "<script src='https://cdnjs.cloudflare.com/ajax/libs/mathjax/2.7.3/latest.js?config=default'></script>"
            ],
            "text/plain": [
              "<IPython.core.display.HTML object>"
            ]
          },
          "metadata": {
            "tags": []
          }
        },
        {
          "output_type": "execute_result",
          "data": {
            "text/latex": "$$\\left[\\begin{matrix}2 & 4\\\\6 & 8\\\\10 & 12\\end{matrix}\\right]$$",
            "text/plain": [
              "⎡2   4 ⎤\n",
              "⎢      ⎥\n",
              "⎢6   8 ⎥\n",
              "⎢      ⎥\n",
              "⎣10  12⎦"
            ]
          },
          "metadata": {
            "tags": []
          },
          "execution_count": 57
        }
      ]
    },
    {
      "cell_type": "markdown",
      "metadata": {
        "id": "w8RoNJs2WQOh"
      },
      "source": [
        "$C=AB$ : Matrix-matrix multiplication\n",
        "* i.e., $C_{i,j}=\\sum_k A_{i,k}B_{k,j}$\n",
        "* e.g.\n",
        "  * $\\begin{bmatrix}1&6\\\\3&4\\\\5&2\\end{bmatrix}\\begin{bmatrix}1&-1\\\\2&1\\end{bmatrix}=\\begin{bmatrix}13&5\\\\11&1\\\\9&-3\\end{bmatrix}$\n",
        "    * Size : $(3\\times 2)(2 \\times 2) = (3\\times 2)$\n",
        "  * $\\begin{bmatrix}3&2&1\\end{bmatrix}\\begin{bmatrix}1\\\\3\\\\5\\end{bmatrix}=\\begin{bmatrix}14\\end{bmatrix}=14$ ,which is called inner product (or dot product, scalar product)\n",
        "    * Size : $(1\\times 3)(3 \\times 1) = (1\\times 1)$\n",
        "  * $\\begin{bmatrix}1\\\\3\\\\5\\end{bmatrix}\\begin{bmatrix}1&2\\end{bmatrix}=\\begin{bmatrix}1&2\\\\3&6\\\\5&10\\end{bmatrix}$ ,which is called outer product\n",
        "    * Size : $(3\\times 1)(1 \\times 2) = (2\\times 2)$"
      ]
    },
    {
      "cell_type": "code",
      "metadata": {
        "id": "Nam6DUUqWQOh",
        "outputId": "6ecea5f6-7f9a-4343-e7e1-4210daed6ade",
        "colab": {
          "base_uri": "https://localhost:8080/",
          "height": 78
        }
      },
      "source": [
        "from IPython.display import display, Math\n",
        "A = np.array([[1,6],[3,4],[5,2]])\n",
        "B = np.array([[1,-1],[2,1]])\n",
        "C1 = np.matmul(A,B)\n",
        "\n",
        "#from sympy import init_printing\n",
        "C1 = sympy.Matrix(C1)\n",
        "\n",
        "Math(sympy.latex(sympy.Matrix(A))+\n",
        "     sympy.latex(sympy.Matrix(B))+\n",
        "     '='+sympy.latex(C1))"
      ],
      "execution_count": null,
      "outputs": [
        {
          "output_type": "execute_result",
          "data": {
            "text/latex": "$$\\left[\\begin{matrix}1 & 6\\\\3 & 4\\\\5 & 2\\end{matrix}\\right]\\left[\\begin{matrix}1 & -1\\\\2 & 1\\end{matrix}\\right]=\\left[\\begin{matrix}13 & 5\\\\11 & 1\\\\9 & -3\\end{matrix}\\right]$$",
            "text/plain": [
              "<IPython.core.display.Math object>"
            ]
          },
          "metadata": {
            "tags": []
          },
          "execution_count": 77
        }
      ]
    },
    {
      "cell_type": "code",
      "metadata": {
        "id": "xbj162TLWQOi",
        "outputId": "74800949-d1b6-44ea-f5a7-606171b949ef",
        "colab": {
          "base_uri": "https://localhost:8080/",
          "height": 78
        }
      },
      "source": [
        "C2 = np.dot(A,B)\n",
        "Math(sympy.latex(sympy.Matrix(A))+\n",
        "     sympy.latex(sympy.Matrix(B))+\n",
        "     '='+\n",
        "     sympy.latex(sympy.Matrix(C2)))"
      ],
      "execution_count": null,
      "outputs": [
        {
          "output_type": "execute_result",
          "data": {
            "text/latex": "$$\\left[\\begin{matrix}1 & 6\\\\3 & 4\\\\5 & 2\\end{matrix}\\right]\\left[\\begin{matrix}1 & -1\\\\2 & 1\\end{matrix}\\right]=\\left[\\begin{matrix}13 & 5\\\\11 & 1\\\\9 & -3\\end{matrix}\\right]$$",
            "text/plain": [
              "<IPython.core.display.Math object>"
            ]
          },
          "metadata": {
            "tags": []
          },
          "execution_count": 80
        }
      ]
    },
    {
      "cell_type": "code",
      "metadata": {
        "id": "EMYTb4-6WQOj",
        "outputId": "c8f94e7a-e7ca-436e-ef19-a1b224773408",
        "colab": {
          "base_uri": "https://localhost:8080/",
          "height": 78
        }
      },
      "source": [
        "C3 = sympy.Matrix(A@B)\n",
        "Math(sympy.latex(sympy.Matrix(A))+\n",
        "     sympy.latex(sympy.Matrix(B))+\n",
        "     '='+\n",
        "     sympy.latex(C3))"
      ],
      "execution_count": null,
      "outputs": [
        {
          "output_type": "execute_result",
          "data": {
            "text/latex": "$$\\left[\\begin{matrix}1 & 6\\\\3 & 4\\\\5 & 2\\end{matrix}\\right]\\left[\\begin{matrix}1 & -1\\\\2 & 1\\end{matrix}\\right]=\\left[\\begin{matrix}13 & 5\\\\11 & 1\\\\9 & -3\\end{matrix}\\right]$$",
            "text/plain": [
              "<IPython.core.display.Math object>"
            ]
          },
          "metadata": {
            "tags": []
          },
          "execution_count": 82
        }
      ]
    },
    {
      "cell_type": "code",
      "metadata": {
        "id": "SX4dBKxrWQOk",
        "outputId": "961a7bf6-8dba-434c-a830-b74aaca4ca22",
        "colab": {
          "base_uri": "https://localhost:8080/",
          "height": 250
        }
      },
      "source": [
        "# error !! why?\n",
        "# In the case of matrix production, sizes should be matched.\n",
        "C5 = np.dot(B,A)\n",
        "print(C4)"
      ],
      "execution_count": null,
      "outputs": [
        {
          "output_type": "error",
          "ename": "ValueError",
          "evalue": "ignored",
          "traceback": [
            "\u001b[0;31m---------------------------------------------------------------------------\u001b[0m",
            "\u001b[0;31mValueError\u001b[0m                                Traceback (most recent call last)",
            "\u001b[0;32m<ipython-input-83-0aefda4bc99c>\u001b[0m in \u001b[0;36m<module>\u001b[0;34m()\u001b[0m\n\u001b[1;32m      1\u001b[0m \u001b[0;31m# error !! why?\u001b[0m\u001b[0;34m\u001b[0m\u001b[0;34m\u001b[0m\u001b[0;34m\u001b[0m\u001b[0m\n\u001b[1;32m      2\u001b[0m \u001b[0;31m# In the case of matrix production, sizes should be matched.\u001b[0m\u001b[0;34m\u001b[0m\u001b[0;34m\u001b[0m\u001b[0;34m\u001b[0m\u001b[0m\n\u001b[0;32m----> 3\u001b[0;31m \u001b[0mC5\u001b[0m \u001b[0;34m=\u001b[0m \u001b[0mnp\u001b[0m\u001b[0;34m.\u001b[0m\u001b[0mdot\u001b[0m\u001b[0;34m(\u001b[0m\u001b[0mB\u001b[0m\u001b[0;34m,\u001b[0m\u001b[0mA\u001b[0m\u001b[0;34m)\u001b[0m\u001b[0;34m\u001b[0m\u001b[0;34m\u001b[0m\u001b[0m\n\u001b[0m\u001b[1;32m      4\u001b[0m \u001b[0mprint\u001b[0m\u001b[0;34m(\u001b[0m\u001b[0mC4\u001b[0m\u001b[0;34m)\u001b[0m\u001b[0;34m\u001b[0m\u001b[0;34m\u001b[0m\u001b[0m\n",
            "\u001b[0;32m<__array_function__ internals>\u001b[0m in \u001b[0;36mdot\u001b[0;34m(*args, **kwargs)\u001b[0m\n",
            "\u001b[0;31mValueError\u001b[0m: shapes (2,2) and (3,2) not aligned: 2 (dim 1) != 3 (dim 0)"
          ]
        }
      ]
    },
    {
      "cell_type": "markdown",
      "metadata": {
        "id": "AsN0ULiIWQOk"
      },
      "source": [
        "## Inner prodcut\n",
        "\n",
        "$$\n",
        "\\begin{align}\n",
        "\\textbf{a}\\cdot\\textbf{b} &= \\begin{bmatrix}1 \\\\ 2\\end{bmatrix} \\cdot \\begin{bmatrix}3 \\\\ 4\\end{bmatrix} \\\\\n",
        "&= \\begin{bmatrix}1 & 2\\end{bmatrix} \\begin{bmatrix}3 \\\\ 4\\end{bmatrix} \\\\\n",
        "&= |\\textbf{a}||\\textbf{b}| \\cos {\\theta} \\\\\n",
        "&= \\sqrt{1^2+2^2}\\sqrt{3^2+4^2} \\cos{\\theta} \\\\\n",
        "&= 3+8 \\\\\n",
        "&=11\n",
        "\\end{align}\n",
        "$$\n",
        "\n",
        "* $\\cos{\\theta}$를 이용하여 vector간의 이루는 각도를 구하기도 하며, ML등의 경우에 vector간의 유사성을 측정하는 도구로 사용됨.\n",
        "* inner prodcut가 0인 경우, **orthogonal**하다라고 표현하면 두 vector가 선형 독립임을 의미하기도 함."
      ]
    },
    {
      "cell_type": "code",
      "metadata": {
        "id": "aHScnRVMWQOk",
        "outputId": "a33317c3-c681-461c-c412-4c91158adea7",
        "colab": {
          "base_uri": "https://localhost:8080/",
          "height": 58
        }
      },
      "source": [
        "a = sympy.Matrix(np.array([1,2]))\n",
        "b = sympy.Matrix(np.array([3,4]))\n",
        "\n",
        "c = a.dot(b)\n",
        "Math(sympy.latex(a)+'\\\\cdot'+sympy.latex(b)+'='+sympy.latex(c))"
      ],
      "execution_count": null,
      "outputs": [
        {
          "output_type": "execute_result",
          "data": {
            "text/latex": "$$\\left[\\begin{matrix}1\\\\2\\end{matrix}\\right]\\cdot\\left[\\begin{matrix}3\\\\4\\end{matrix}\\right]=11$$",
            "text/plain": [
              "<IPython.core.display.Math object>"
            ]
          },
          "metadata": {
            "tags": []
          },
          "execution_count": 88
        }
      ]
    },
    {
      "cell_type": "code",
      "metadata": {
        "id": "ebHqhNabWQOl",
        "outputId": "bba9b334-cfca-42a2-eabf-7ec4bedb3bbe",
        "colab": {
          "base_uri": "https://localhost:8080/",
          "height": 58
        }
      },
      "source": [
        "Math(sympy.latex(a.T)+sympy.latex(b)+'='+sympy.latex(c))"
      ],
      "execution_count": null,
      "outputs": [
        {
          "output_type": "execute_result",
          "data": {
            "text/latex": "$$\\left[\\begin{matrix}1 & 2\\end{matrix}\\right]\\left[\\begin{matrix}3\\\\4\\end{matrix}\\right]=11$$",
            "text/plain": [
              "<IPython.core.display.Math object>"
            ]
          },
          "metadata": {
            "tags": []
          },
          "execution_count": 89
        }
      ]
    },
    {
      "cell_type": "markdown",
      "metadata": {
        "id": "3bffReh1WQOm"
      },
      "source": [
        "## Matrix multiplication is **NOT** commutative (교환법칙이 성립하지 않음)\n",
        "\n",
        "> commute : 통학하다, 출퇴근하다, 주기적으로 왔다 갔다 하는 것을 의미. (수학적으로 교환)\n",
        "\n",
        "$AB \\ne BA$ \n",
        "* Matrix multiplication is **NOT** commutative.\n",
        "* e.g. Given $A\\in \\mathbb{R}^{2\\times 3}$ and $B\\in \\mathbb{R}^{3\\times 5}$, $AB$ is defined, but $BA$ is not even defined.\n",
        "* What if $BA$ is defined, e.g., $A\\in \\mathbb{R}^{2\\times 3}$ and $B\\in \\mathbb{R}^{3\\times 2}$? Still, the sizes of $AB\\in \\mathbb{R}^{2 \\times 2}$ and $BA\\in \\mathbb{R}^{3 \\times 3}$ does not match, so $AB \\ne BA$.\n",
        "* What if the size of $AB$ and $BA$ match, e.g., $A\\in \\mathbb{R}^{2\\times 2}$ and $B\\in \\mathbb{R}^{2\\times 2}$? Still in the case, generally, $AB \\ne BA$.\n",
        "\n",
        "$$\n",
        "\\begin{bmatrix}\n",
        "1 & 2\\\\\n",
        "3 & 4\n",
        "\\end{bmatrix}\n",
        "\\begin{bmatrix}\n",
        "5 & 6\\\\\n",
        "7 & 8\n",
        "\\end{bmatrix}\n",
        "=\n",
        "\\begin{bmatrix}\n",
        "19 & 22\\\\\n",
        "43 & 50\n",
        "\\end{bmatrix} \\\\\n",
        "\\begin{bmatrix}\n",
        "5 & 6\\\\\n",
        "7 & 8\n",
        "\\end{bmatrix}\n",
        "\\begin{bmatrix}\n",
        "1 & 2\\\\\n",
        "3 & 4\n",
        "\\end{bmatrix}\n",
        "=\n",
        "\\begin{bmatrix}\n",
        "23 & 34\\\\\n",
        "50 & 46\n",
        "\\end{bmatrix}\n",
        "$$"
      ]
    },
    {
      "cell_type": "code",
      "metadata": {
        "id": "89BSlg7tWQOm",
        "outputId": "08a8281e-382f-4f98-89c6-1cf8296b644a",
        "colab": {
          "base_uri": "https://localhost:8080/",
          "height": 132
        }
      },
      "source": [
        "A = np.array([[1,2],[3,4]])\n",
        "A_sym = sympy.Matrix(A)\n",
        "B = np.array([[5,6],[7,8]])\n",
        "B_sym = sympy.Matrix(B)\n",
        "\n",
        "C_np=np.dot(A,B)\n",
        "D_np=np.dot(B,A)\n",
        "#D_np=np.dot(A,B) # equal\n",
        "C = sympy.Matrix(C_np)\n",
        "D = sympy.Matrix(D_np)\n",
        "\n",
        "if (C_np == D_np).all():\n",
        "    print('equal')\n",
        "else:\n",
        "    print('not equal')\n",
        "\n",
        "if (C == D):\n",
        "    print('equal')\n",
        "else:\n",
        "    print('not equal')\n",
        "# ----------------------------\n",
        "# ValueError: The truth value of an array \n",
        "#             with more than one element is ambiguous.\n",
        "#\n",
        "# if (C_np == D_np):\n",
        "#     print('equal')\n",
        "# else:\n",
        "#     print('not equal')\n",
        "\n",
        "Math(\n",
        "    sympy.latex(A_sym)+sympy.latex(B_sym)+'='+sympy.latex(C) +'\\\\\\\\'+\n",
        "    sympy.latex(B_sym)+sympy.latex(A_sym)+'='+sympy.latex(D)\n",
        ")\n"
      ],
      "execution_count": null,
      "outputs": [
        {
          "output_type": "stream",
          "text": [
            "not equal\n",
            "not equal\n"
          ],
          "name": "stdout"
        },
        {
          "output_type": "execute_result",
          "data": {
            "text/latex": "$$\\left[\\begin{matrix}1 & 2\\\\3 & 4\\end{matrix}\\right]\\left[\\begin{matrix}5 & 6\\\\7 & 8\\end{matrix}\\right]=\\left[\\begin{matrix}19 & 22\\\\43 & 50\\end{matrix}\\right]\\\\\\left[\\begin{matrix}5 & 6\\\\7 & 8\\end{matrix}\\right]\\left[\\begin{matrix}1 & 2\\\\3 & 4\\end{matrix}\\right]=\\left[\\begin{matrix}23 & 34\\\\31 & 46\\end{matrix}\\right]$$",
            "text/plain": [
              "<IPython.core.display.Math object>"
            ]
          },
          "metadata": {
            "tags": []
          },
          "execution_count": 97
        }
      ]
    },
    {
      "cell_type": "markdown",
      "metadata": {
        "id": "VZm3iHLiWQOn"
      },
      "source": [
        "# Other Properties of Matrix\n",
        "\n",
        "* Distributive(분배) Law $$A(B+C) = AB+AC$$\n",
        "* Associative(결합) Law $$A(BC) = (AB)C$$\n",
        "* Property of transpose $$(AB)^T = B^TA^T$$"
      ]
    },
    {
      "cell_type": "markdown",
      "metadata": {
        "id": "ECCx40_SWQOn"
      },
      "source": [
        "## Linear System (Ch1.1)\n",
        "* A **System of linear equations** (or a **linear system**) is a collection of one or more linear equations involving the same variables &mdash; say, $x_1,\\cdots ,x_n$.\n",
        "\n",
        "> ### Linear system의 활용예? ###\n",
        ">\n",
        "> Suppose we collected persons' weight, height, and life-span,\n",
        ">\n",
        "> |ID|Weight|Height|Is_smoking|Life-span|\n",
        "> |---|---|---|---|---|\n",
        "> |1 |60kg|5.5ft|Yes(=1)|66|\n",
        "> |2 |65kg|5.0ft|No(=1)|74|\n",
        "> |3 |55kg|6.0ft|Yes(=1)|78|\n",
        ">\n",
        "> * We can setup the following linear system:\n",
        "> $$\\begin{align}60x_1+5.5x_2+1x_3&=66\\\\65x_1+5.0x_2+0x_3&=74\\\\55x_1+6.0x_2+1x_3&=78\\end{align}$$\n",
        "> * Once we solve for $x_1$, $x_2$, and $x_3$, given a new person with his/her weight, height, and is_smoking, we can predict his/her life-span."
      ]
    },
    {
      "cell_type": "code",
      "metadata": {
        "id": "VAXaaPK4WQOn",
        "outputId": "36c81164-5af1-48a8-dae7-b7c196a2bcad",
        "colab": {
          "base_uri": "https://localhost:8080/",
          "height": 78
        }
      },
      "source": [
        "# coefficient matrix A and a vector b\n",
        "A_np=np.array([[60, 5.5, 1],\n",
        "            [65, 5.0, 0],\n",
        "            [55, 6.0, 1]])\n",
        "A = sympy.Matrix(A_np)\n",
        "b_np=np.array([66, 74, 78])\n",
        "b = sympy.Matrix(b_np)\n",
        "\n",
        "# argumented matrix\n",
        "Ag_np = np.concatenate( (A,b), axis=1)\n",
        "Ag = sympy.Matrix(Ag_np)\n",
        "Math(sympy.latex(Ag))"
      ],
      "execution_count": null,
      "outputs": [
        {
          "output_type": "execute_result",
          "data": {
            "text/latex": "$$\\left[\\begin{matrix}60.0 & 5.5 & 1.0 & 66\\\\65.0 & 5.0 & 0.0 & 74\\\\55.0 & 6.0 & 1.0 & 78\\end{matrix}\\right]$$",
            "text/plain": [
              "<IPython.core.display.Math object>"
            ]
          },
          "metadata": {
            "tags": []
          },
          "execution_count": 102
        }
      ]
    },
    {
      "cell_type": "code",
      "metadata": {
        "id": "ucpVnpMXWQOo",
        "outputId": "9ee375ec-18fd-4ce2-e33a-afbbfc99c960",
        "colab": {
          "base_uri": "https://localhost:8080/",
          "height": 78
        }
      },
      "source": [
        "Ag_np2 = np.concatenate( (A_np,np.array([b_np]).T), axis=1)\n",
        "sympy.Matrix(Ag_np2)"
      ],
      "execution_count": null,
      "outputs": [
        {
          "output_type": "display_data",
          "data": {
            "text/html": [
              "<script src='https://cdnjs.cloudflare.com/ajax/libs/mathjax/2.7.3/latest.js?config=default'></script>"
            ],
            "text/plain": [
              "<IPython.core.display.HTML object>"
            ]
          },
          "metadata": {
            "tags": []
          }
        },
        {
          "output_type": "execute_result",
          "data": {
            "text/latex": "$$\\left[\\begin{matrix}60.0 & 5.5 & 1.0 & 66.0\\\\65.0 & 5.0 & 0.0 & 74.0\\\\55.0 & 6.0 & 1.0 & 78.0\\end{matrix}\\right]$$",
            "text/plain": [
              "⎡60.0  5.5  1.0  66.0⎤\n",
              "⎢                    ⎥\n",
              "⎢65.0  5.0  0.0  74.0⎥\n",
              "⎢                    ⎥\n",
              "⎣55.0  6.0  1.0  78.0⎦"
            ]
          },
          "metadata": {
            "tags": []
          },
          "execution_count": 103
        }
      ]
    },
    {
      "cell_type": "markdown",
      "metadata": {
        "id": "nlVys74CWQOp"
      },
      "source": [
        "## From Linear System (System of linear equations) To Single Matrix Equation\n",
        "\n",
        "* Multiple linear equations can be converted into a single **Matrix equation (ch1.4)**.\n",
        "\n",
        "$$\n",
        "\\begin{matrix}\n",
        "60x_1+5.5x_2+1x_3&=66\\\\\n",
        "65x_1+5.0x_2+0x_3&=74\\\\\n",
        "55x_1+6.0x_2+1x_3&=78\\\\\n",
        "\\\\\n",
        "\\end{matrix}\n",
        "\\Rightarrow\n",
        "\\begin{matrix}\n",
        "\\begin{bmatrix}\n",
        "60&5.5&1\\\\\n",
        "65&5.0&0\\\\\n",
        "55&6.0&1\n",
        "\\end{bmatrix}\n",
        "&\\begin{bmatrix}x_1 \\\\ x_2 \\\\ x_3\\end{bmatrix}\n",
        "&=\n",
        "&\\begin{bmatrix}66 \\\\ 74 \\\\ 78\\end{bmatrix} \\\\\n",
        "A & \\textbf{x} &= &\\textbf{b}\n",
        "\\end{matrix}\n",
        "\\Leftarrow\n",
        "\\begin{matrix}\n",
        "\\textbf{a}_1^T \\textbf{x} &=66 \\\\\n",
        "\\textbf{a}_2^T \\textbf{x} &=74 \\\\\n",
        "\\textbf{a}_3^T \\textbf{x} &=78 \\\\\n",
        "\\\\\n",
        "\\end{matrix}\n",
        "$$\n",
        "\n",
        "* How can we solve for $\\textbf{x}$? \n",
        "  * Do you remember the concepts of identity matrix and inverse matrix?"
      ]
    },
    {
      "cell_type": "markdown",
      "metadata": {
        "id": "yjq53JCHWQOp"
      },
      "source": [
        "## Identity matrix\n",
        "\n",
        "$$\n",
        "\\begin{bmatrix}\n",
        "1 & 0 & 0 & \\cdots & 0 \\\\\n",
        "0 & 1 & 0 & \\cdots & 0 \\\\\n",
        "0 & 0 & 1 & \\cdots & 0 \\\\ \n",
        "\\vdots & \\vdots & \\vdots & \\vdots & \\vdots \\\\\n",
        "0 & 0 & 0 & \\cdots & 1 \\\\ \n",
        "\\end{bmatrix}\n",
        "$$"
      ]
    },
    {
      "cell_type": "code",
      "metadata": {
        "id": "MJTlK5bMWQOp",
        "outputId": "f76399b2-dfd3-4bdf-bd3d-6de7855c7057",
        "colab": {
          "base_uri": "https://localhost:8080/",
          "height": 78
        }
      },
      "source": [
        "# identity matrix \n",
        "eye3 = np.eye(3)\n",
        "#print(eye3)\n",
        "sympy.Matrix(eye3)"
      ],
      "execution_count": null,
      "outputs": [
        {
          "output_type": "display_data",
          "data": {
            "text/html": [
              "<script src='https://cdnjs.cloudflare.com/ajax/libs/mathjax/2.7.3/latest.js?config=default'></script>"
            ],
            "text/plain": [
              "<IPython.core.display.HTML object>"
            ]
          },
          "metadata": {
            "tags": []
          }
        },
        {
          "output_type": "execute_result",
          "data": {
            "text/latex": "$$\\left[\\begin{matrix}1.0 & 0.0 & 0.0\\\\0.0 & 1.0 & 0.0\\\\0.0 & 0.0 & 1.0\\end{matrix}\\right]$$",
            "text/plain": [
              "⎡1.0  0.0  0.0⎤\n",
              "⎢             ⎥\n",
              "⎢0.0  1.0  0.0⎥\n",
              "⎢             ⎥\n",
              "⎣0.0  0.0  1.0⎦"
            ]
          },
          "metadata": {
            "tags": []
          },
          "execution_count": 119
        }
      ]
    },
    {
      "cell_type": "code",
      "metadata": {
        "id": "k4QzpitqWQOs",
        "outputId": "81964128-c1c0-4091-a0df-e04b0e42f2d6",
        "colab": {
          "base_uri": "https://localhost:8080/",
          "height": 82
        }
      },
      "source": [
        "# computing an inverse\n",
        "from numpy.linalg import inv\n",
        "\n",
        "# A_np = np.array([[1,2],[3,4]])\n",
        "A_np=np.array([[60, 5.5, 1],\n",
        "            [65, 5.0, 0],\n",
        "            [55, 6.0, 1]])\n",
        "invA_np = inv(A_np)\n",
        "\n",
        "A = sympy.Matrix(A_np)\n",
        "A_inv = sympy.Matrix(invA_np)\n",
        "\n",
        "Math(sympy.latex(A)+'^{-1}'+'='+sympy.latex(A_inv))"
      ],
      "execution_count": null,
      "outputs": [
        {
          "output_type": "execute_result",
          "data": {
            "text/latex": "$$\\left[\\begin{matrix}60.0 & 5.5 & 1.0\\\\65.0 & 5.0 & 0.0\\\\55.0 & 6.0 & 1.0\\end{matrix}\\right]^{-1}=\\left[\\begin{matrix}0.0869565217391305 & 0.00869565217391305 & -0.0869565217391305\\\\-1.1304347826087 & 0.0869565217391304 & 1.1304347826087\\\\2.0 & -1.0 & -1.0\\end{matrix}\\right]$$",
            "text/plain": [
              "<IPython.core.display.Math object>"
            ]
          },
          "metadata": {
            "tags": []
          },
          "execution_count": 131
        }
      ]
    },
    {
      "cell_type": "code",
      "metadata": {
        "id": "WXfK0rSlWQOw",
        "outputId": "dd91479b-bea9-466f-9fc7-a64bc29a60cf",
        "colab": {
          "base_uri": "https://localhost:8080/",
          "height": 82
        }
      },
      "source": [
        "A_inv = A.inv()\n",
        "Math(sympy.latex(A)+'^{-1}'+'='+sympy.latex(A_inv))"
      ],
      "execution_count": null,
      "outputs": [
        {
          "output_type": "execute_result",
          "data": {
            "text/latex": "$$\\left[\\begin{matrix}60.0 & 5.5 & 1.0\\\\65.0 & 5.0 & 0.0\\\\55.0 & 6.0 & 1.0\\end{matrix}\\right]^{-1}=\\left[\\begin{matrix}0.0869565217391304 & 0.00869565217391304 & -0.0869565217391304\\\\-1.1304347826087 & 0.0869565217391304 & 1.1304347826087\\\\2.0 & -1.0 & -1.0\\end{matrix}\\right]$$",
            "text/plain": [
              "<IPython.core.display.Math object>"
            ]
          },
          "metadata": {
            "tags": []
          },
          "execution_count": 132
        }
      ]
    },
    {
      "cell_type": "code",
      "metadata": {
        "id": "8n9Y0aPuWQOy",
        "outputId": "f7f2e221-bc8a-4ec3-b4c7-23284b2815c2",
        "colab": {
          "base_uri": "https://localhost:8080/",
          "height": 78
        }
      },
      "source": [
        "# wrong matrix multiplication\n",
        "# because it is the element-wise multiplication\n",
        "element_wise_mulitplication = A_np*invA_np\n",
        "sympy.Matrix(element_wise_mulitplication)"
      ],
      "execution_count": null,
      "outputs": [
        {
          "output_type": "display_data",
          "data": {
            "text/html": [
              "<script src='https://cdnjs.cloudflare.com/ajax/libs/mathjax/2.7.3/latest.js?config=default'></script>"
            ],
            "text/plain": [
              "<IPython.core.display.HTML object>"
            ]
          },
          "metadata": {
            "tags": []
          }
        },
        {
          "output_type": "execute_result",
          "data": {
            "text/latex": "$$\\left[\\begin{matrix}5.21739130434783 & 0.0478260869565218 & -0.0869565217391305\\\\-73.4782608695652 & 0.434782608695652 & 0.0\\\\110.0 & -6.0 & -1.0\\end{matrix}\\right]$$",
            "text/plain": [
              "⎡5.21739130434783   0.0478260869565218  -0.0869565217391305⎤\n",
              "⎢                                                          ⎥\n",
              "⎢-73.4782608695652  0.434782608695652           0.0        ⎥\n",
              "⎢                                                          ⎥\n",
              "⎣      110.0               -6.0                -1.0        ⎦"
            ]
          },
          "metadata": {
            "tags": []
          },
          "execution_count": 133
        }
      ]
    },
    {
      "cell_type": "code",
      "metadata": {
        "id": "cwGGQSNtWQOx",
        "outputId": "0e305922-6faf-4a98-e4d9-eea4fe4583a4",
        "colab": {
          "base_uri": "https://localhost:8080/",
          "height": 78
        }
      },
      "source": [
        "# In the sympy, * between matrix means the matrix production. \n",
        "A*A_inv"
      ],
      "execution_count": null,
      "outputs": [
        {
          "output_type": "display_data",
          "data": {
            "text/html": [
              "<script src='https://cdnjs.cloudflare.com/ajax/libs/mathjax/2.7.3/latest.js?config=default'></script>"
            ],
            "text/plain": [
              "<IPython.core.display.HTML object>"
            ]
          },
          "metadata": {
            "tags": []
          }
        },
        {
          "output_type": "execute_result",
          "data": {
            "text/latex": "$$\\left[\\begin{matrix}1.0 & 0 & 0\\\\0 & 1.0 & 0\\\\-1.77635683940025 \\cdot 10^{-15} & 0 & 1.0\\end{matrix}\\right]$$",
            "text/plain": [
              "⎡         1.0            0    0 ⎤\n",
              "⎢                               ⎥\n",
              "⎢          0            1.0   0 ⎥\n",
              "⎢                               ⎥\n",
              "⎣-1.77635683940025e-15   0   1.0⎦"
            ]
          },
          "metadata": {
            "tags": []
          },
          "execution_count": 134
        }
      ]
    },
    {
      "cell_type": "code",
      "metadata": {
        "id": "tEPFH0M1WQOz",
        "outputId": "80ddcd8c-962f-468f-cb90-1301d88555fc",
        "colab": {
          "base_uri": "https://localhost:8080/",
          "height": 78
        }
      },
      "source": [
        "# correct matrix multiplication\n",
        "matrix_multiplication = A_np.dot(invA_np)\n",
        "sympy.Matrix(matrix_multiplication)"
      ],
      "execution_count": null,
      "outputs": [
        {
          "output_type": "display_data",
          "data": {
            "text/html": [
              "<script src='https://cdnjs.cloudflare.com/ajax/libs/mathjax/2.7.3/latest.js?config=default'></script>"
            ],
            "text/plain": [
              "<IPython.core.display.HTML object>"
            ]
          },
          "metadata": {
            "tags": []
          }
        },
        {
          "output_type": "execute_result",
          "data": {
            "text/latex": "$$\\left[\\begin{matrix}1.0 & 0.0 & -4.44089209850063 \\cdot 10^{-16}\\\\8.88178419700125 \\cdot 10^{-16} & 1.0 & -8.88178419700125 \\cdot 10^{-16}\\\\-8.88178419700125 \\cdot 10^{-16} & 0.0 & 1.0\\end{matrix}\\right]$$",
            "text/plain": [
              "⎡         1.0           0.0  -4.44089209850063e-16⎤\n",
              "⎢                                                 ⎥\n",
              "⎢8.88178419700125e-16   1.0  -8.88178419700125e-16⎥\n",
              "⎢                                                 ⎥\n",
              "⎣-8.88178419700125e-16  0.0           1.0         ⎦"
            ]
          },
          "metadata": {
            "tags": []
          },
          "execution_count": 135
        }
      ]
    },
    {
      "cell_type": "code",
      "metadata": {
        "id": "-bUnVDCaWQOz",
        "outputId": "31a5c650-35df-45d6-9c5f-b3c1abd3e476",
        "colab": {
          "base_uri": "https://localhost:8080/",
          "height": 78
        }
      },
      "source": [
        "# solution of a linear system\n",
        "x=A_inv.multiply(b)\n",
        "x"
      ],
      "execution_count": null,
      "outputs": [
        {
          "output_type": "display_data",
          "data": {
            "text/html": [
              "<script src='https://cdnjs.cloudflare.com/ajax/libs/mathjax/2.7.3/latest.js?config=default'></script>"
            ],
            "text/plain": [
              "<IPython.core.display.HTML object>"
            ]
          },
          "metadata": {
            "tags": []
          }
        },
        {
          "output_type": "execute_result",
          "data": {
            "text/latex": "$$\\left[\\begin{matrix}-0.4\\\\20.0\\\\-20.0\\end{matrix}\\right]$$",
            "text/plain": [
              "⎡-0.4 ⎤\n",
              "⎢     ⎥\n",
              "⎢20.0 ⎥\n",
              "⎢     ⎥\n",
              "⎣-20.0⎦"
            ]
          },
          "metadata": {
            "tags": []
          },
          "execution_count": 136
        }
      ]
    },
    {
      "cell_type": "code",
      "metadata": {
        "id": "h1AubNIhWQO0",
        "outputId": "8bbf3257-8eaf-4204-f38a-e154b2763847",
        "colab": {
          "base_uri": "https://localhost:8080/",
          "height": 78
        }
      },
      "source": [
        "# a better way to solve the same linear system\n",
        "#\n",
        "# A is coefficient matrix\n",
        "# b is right side column vector having target values.\n",
        "from numpy.linalg import solve\n",
        "x_np = solve(A_np,b_np)\n",
        "sympy.Matrix(x_np)"
      ],
      "execution_count": null,
      "outputs": [
        {
          "output_type": "display_data",
          "data": {
            "text/html": [
              "<script src='https://cdnjs.cloudflare.com/ajax/libs/mathjax/2.7.3/latest.js?config=default'></script>"
            ],
            "text/plain": [
              "<IPython.core.display.HTML object>"
            ]
          },
          "metadata": {
            "tags": []
          }
        },
        {
          "output_type": "execute_result",
          "data": {
            "text/latex": "$$\\left[\\begin{matrix}-0.4\\\\20.0\\\\-20.0\\end{matrix}\\right]$$",
            "text/plain": [
              "⎡-0.4 ⎤\n",
              "⎢     ⎥\n",
              "⎢20.0 ⎥\n",
              "⎢     ⎥\n",
              "⎣-20.0⎦"
            ]
          },
          "metadata": {
            "tags": []
          },
          "execution_count": 137
        }
      ]
    },
    {
      "cell_type": "markdown",
      "metadata": {
        "id": "bqZ51xFrWQO0"
      },
      "source": [
        "# Note\n",
        "* It is unusal to get the inverse matrix itself!\n",
        "* In the above example, solve function doesn't calculate A_inv directly."
      ]
    },
    {
      "cell_type": "code",
      "metadata": {
        "id": "GbvkEfhJWQO1",
        "outputId": "39fb8950-5d86-48b7-8e98-aaf62e76321b",
        "colab": {
          "base_uri": "https://localhost:8080/",
          "height": 78
        }
      },
      "source": [
        "A"
      ],
      "execution_count": null,
      "outputs": [
        {
          "output_type": "display_data",
          "data": {
            "text/html": [
              "<script src='https://cdnjs.cloudflare.com/ajax/libs/mathjax/2.7.3/latest.js?config=default'></script>"
            ],
            "text/plain": [
              "<IPython.core.display.HTML object>"
            ]
          },
          "metadata": {
            "tags": []
          }
        },
        {
          "output_type": "execute_result",
          "data": {
            "text/latex": "$$\\left[\\begin{matrix}60.0 & 5.5 & 1.0\\\\65.0 & 5.0 & 0.0\\\\55.0 & 6.0 & 1.0\\end{matrix}\\right]$$",
            "text/plain": [
              "⎡60.0  5.5  1.0⎤\n",
              "⎢              ⎥\n",
              "⎢65.0  5.0  0.0⎥\n",
              "⎢              ⎥\n",
              "⎣55.0  6.0  1.0⎦"
            ]
          },
          "metadata": {
            "tags": []
          },
          "execution_count": 140
        }
      ]
    },
    {
      "cell_type": "code",
      "metadata": {
        "id": "C19ns3bVWQO1",
        "outputId": "ef072adc-ec7a-4726-863e-8423623048dc",
        "colab": {
          "base_uri": "https://localhost:8080/",
          "height": 286
        }
      },
      "source": [
        "import matplotlib.pyplot as plt\n",
        "\n",
        "plt.imshow(A_np,cmap='gray')"
      ],
      "execution_count": null,
      "outputs": [
        {
          "output_type": "execute_result",
          "data": {
            "text/plain": [
              "<matplotlib.image.AxesImage at 0x7f0d665a4eb8>"
            ]
          },
          "metadata": {
            "tags": []
          },
          "execution_count": 141
        },
        {
          "output_type": "display_data",
          "data": {
            "image/png": "[encoded data removed]",
            "text/plain": [
              "<Figure size 432x288 with 1 Axes>"
            ]
          },
          "metadata": {
            "tags": [],
            "needs_background": "light"
          }
        }
      ]
    },
    {
      "cell_type": "code",
      "metadata": {
        "id": "92ySWnPSY-dV"
      },
      "source": [
        ""
      ],
      "execution_count": null,
      "outputs": []
    }
  ]
}